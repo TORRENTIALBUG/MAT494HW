{
  "nbformat": 4,
  "nbformat_minor": 0,
  "metadata": {
    "colab": {
      "provenance": [],
      "authorship_tag": "ABX9TyOpCkwu+TcVYzIrA+P6WJuZ",
      "include_colab_link": true
    },
    "kernelspec": {
      "name": "python3",
      "display_name": "Python 3"
    },
    "language_info": {
      "name": "python"
    }
  },
  "cells": [
    {
      "cell_type": "markdown",
      "metadata": {
        "id": "view-in-github",
        "colab_type": "text"
      },
      "source": [
        "<a href=\"https://colab.research.google.com/github/TORRENTIALBUG/MAT494HW/blob/main/3_2_MAT494.ipynb\" target=\"_parent\"><img src=\"https://colab.research.google.com/assets/colab-badge.svg\" alt=\"Open In Colab\"/></a>"
      ]
    },
    {
      "cell_type": "markdown",
      "source": [
        "3.2.1 Limits and Continuity"
      ],
      "metadata": {
        "id": "fwT4NxqCLP9z"
      }
    },
    {
      "cell_type": "code",
      "source": [
        "from sympy import symbols, limit\n",
        "x=symbols('x')\n",
        "f=(x**2-1)/(x-1)\n",
        "\n",
        "print(\"Limit of (x^2-1)/(x-1) at x=1:\", limit(f, x, 1))"
      ],
      "metadata": {
        "id": "nvj90Hg8pLus",
        "colab": {
          "base_uri": "https://localhost:8080/"
        },
        "outputId": "9e33a3b0-38b6-46d3-9a62-101094615322"
      },
      "execution_count": 1,
      "outputs": [
        {
          "output_type": "stream",
          "name": "stdout",
          "text": [
            "Limit of (x^2-1)/(x-1) at x=1: 2\n"
          ]
        }
      ]
    },
    {
      "cell_type": "code",
      "source": [
        "from sympy import tan, sin, cos, sqrt, pi, Q, ask\n",
        "\n",
        "def checkifcontinus(func, x, x0):\n",
        "    return (limit(func, x, x0, \"+-\").is_real and\n",
        "            ask(Q.real(func.subs(x, x0))) and \n",
        "            limit(func, x, x0, \"+-\")==func.subs(x, x0))\n",
        "\n",
        "f2=tan(x)\n",
        "print(checkifcontinus(f2, x, pi/2))\n",
        "\n",
        "f3=sin(x)/x\n",
        "print(checkifcontinus(f3, x, 0))\n",
        "\n",
        "f4=cos(x)/x\n",
        "print(checkifcontinus(f4, x, 0))\n",
        "\n",
        "f5=sqrt(x)\n",
        "print(checkifcontinus(f5, x, 0))\n"
      ],
      "metadata": {
        "colab": {
          "base_uri": "https://localhost:8080/"
        },
        "id": "xEpjXrt_fU95",
        "outputId": "dccd5dcc-da97-4772-a028-db7949b80080"
      },
      "execution_count": 2,
      "outputs": [
        {
          "output_type": "stream",
          "name": "stdout",
          "text": [
            "False\n",
            "False\n",
            "False\n",
            "True\n"
          ]
        }
      ]
    },
    {
      "cell_type": "markdown",
      "source": [
        "\n"
      ],
      "metadata": {
        "id": "mBDS9QIspL8D"
      }
    },
    {
      "cell_type": "code",
      "source": [
        "from sympy.interactive.session import init_printing\n",
        "init_printing(use_latex=True)"
      ],
      "metadata": {
        "id": "BXLchkzkeky0"
      },
      "execution_count": 3,
      "outputs": []
    },
    {
      "cell_type": "code",
      "source": [
        "from sympy import diff, exp\n",
        "x, y = symbols('x y')\n",
        "diff(exp(cos(x)+y**4)+sqrt(x*y), y)"
      ],
      "metadata": {
        "id": "DvRlbyWppPXM",
        "colab": {
          "base_uri": "https://localhost:8080/",
          "height": 56
        },
        "outputId": "a2064d1c-6091-42c7-ac40-91fb537c6223"
      },
      "execution_count": 4,
      "outputs": [
        {
          "output_type": "execute_result",
          "data": {
            "text/plain": [
              "       4              _____\n",
              "   3  y  + cos(x)   ╲╱ x⋅y \n",
              "4⋅y ⋅ℯ            + ───────\n",
              "                      2⋅y  "
            ],
            "image/png": "[encoded data removed]",
            "text/latex": "$\\displaystyle 4 y^{3} e^{y^{4} + \\cos{\\left(x \\right)}} + \\frac{\\sqrt{x y}}{2 y}$"
          },
          "metadata": {},
          "execution_count": 4
        }
      ]
    },
    {
      "cell_type": "markdown",
      "source": [
        "3.2.3 Taylor's Theorem"
      ],
      "metadata": {
        "id": "tmKUs4yOTVjS"
      }
    },
    {
      "cell_type": "code",
      "source": [
        "from sympy import series\n",
        "series(cos(x),x)"
      ],
      "metadata": {
        "colab": {
          "base_uri": "https://localhost:8080/",
          "height": 54
        },
        "id": "gfsw6GRzTVAJ",
        "outputId": "3f34d3b8-27ec-40c1-fa69-60c45ab98eb7"
      },
      "execution_count": 5,
      "outputs": [
        {
          "output_type": "execute_result",
          "data": {
            "text/plain": [
              "     2    4        \n",
              "    x    x     ⎛ 6⎞\n",
              "1 - ── + ── + O⎝x ⎠\n",
              "    2    24        "
            ],
            "image/png": "[encoded data removed]",
            "text/latex": "$\\displaystyle 1 - \\frac{x^{2}}{2} + \\frac{x^{4}}{24} + O\\left(x^{6}\\right)$"
          },
          "metadata": {},
          "execution_count": 5
        }
      ]
    }
  ]
}