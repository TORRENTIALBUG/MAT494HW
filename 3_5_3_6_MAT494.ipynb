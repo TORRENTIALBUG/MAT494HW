{
  "nbformat": 4,
  "nbformat_minor": 0,
  "metadata": {
    "colab": {
      "provenance": [],
      "authorship_tag": "ABX9TyMqpNTDiMEzNVBL55H5d7Yd",
      "include_colab_link": true
    },
    "kernelspec": {
      "name": "python3",
      "display_name": "Python 3"
    },
    "language_info": {
      "name": "python"
    }
  },
  "cells": [
    {
      "cell_type": "markdown",
      "metadata": {
        "id": "view-in-github",
        "colab_type": "text"
      },
      "source": [
        "<a href=\"https://colab.research.google.com/github/TORRENTIALBUG/MAT494HW/blob/main/3_5_3_6_MAT494.ipynb\" target=\"_parent\"><img src=\"https://colab.research.google.com/assets/colab-badge.svg\" alt=\"Open In Colab\"/></a>"
      ]
    },
    {
      "cell_type": "markdown",
      "source": [
        "3.5 K-means"
      ],
      "metadata": {
        "id": "sZV0CNNhWWk2"
      }
    },
    {
      "cell_type": "code",
      "source": [
        "import numpy as np\n",
        "from sklearn.cluster import KMeans\n",
        "from random import random\n",
        "t = []\n",
        "for x,y in [(0, 0), (10, 10), (-20, -20)]:\n",
        "    for _ in range(50):\n",
        "        t.append([x+random(), y+random()])\n",
        "X = np.array(t)\n",
        "kmeans = KMeans(n_clusters=3, random_state=0).fit(X)\n",
        "print(kmeans.cluster_centers_) # we see they are close to what we expect to be"
      ],
      "metadata": {
        "colab": {
          "base_uri": "https://localhost:8080/"
        },
        "id": "mx2ngeDPPRWr",
        "outputId": "04eee0e3-3a63-4a8a-d0ab-85279807389c"
      },
      "execution_count": 1,
      "outputs": [
        {
          "output_type": "stream",
          "name": "stdout",
          "text": [
            "[[  0.52115833   0.5272423 ]\n",
            " [-19.51094984 -19.49935892]\n",
            " [ 10.54138132  10.50375758]]\n"
          ]
        }
      ]
    },
    {
      "cell_type": "markdown",
      "source": [
        "3.6 Support Vector Machine"
      ],
      "metadata": {
        "id": "pp82I3a7Rt1E"
      }
    },
    {
      "cell_type": "code",
      "source": [
        "import numpy as np\n",
        "from sklearn.pipeline import make_pipeline\n",
        "from sklearn.preprocessing import StandardScaler\n",
        "t1, t2 = [], []\n",
        "for i,x,y in [(0, 0, 0), (1, 10, 10), (2, -20, -20)]:\n",
        "    for _ in range(50):\n",
        "        t1.append([x+random(), y+random()])\n",
        "        t2.append(i)\n",
        "X = np.array(t1)\n",
        "y = np.array(t2)\n",
        "from sklearn.svm import SVC\n",
        "clf = make_pipeline(StandardScaler(), SVC(gamma='auto'))\n",
        "clf.fit(X, y)\n",
        "\n",
        "print(clf.predict([[-15, -25], [0, 2], [7, 9]])) # We see they are match to 3 centers correctly"
      ],
      "metadata": {
        "colab": {
          "base_uri": "https://localhost:8080/"
        },
        "id": "gDbKlBjSRx66",
        "outputId": "acaca94f-38d2-4ef1-abb9-c941909287b4"
      },
      "execution_count": 2,
      "outputs": [
        {
          "output_type": "stream",
          "name": "stdout",
          "text": [
            "[2 0 1]\n"
          ]
        }
      ]
    }
  ]
}