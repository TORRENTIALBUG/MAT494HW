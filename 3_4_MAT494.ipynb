{
  "nbformat": 4,
  "nbformat_minor": 0,
  "metadata": {
    "colab": {
      "provenance": [],
      "authorship_tag": "ABX9TyPqmWVJvw228pI9nyVs3guL",
      "include_colab_link": true
    },
    "kernelspec": {
      "name": "python3",
      "display_name": "Python 3"
    },
    "language_info": {
      "name": "python"
    }
  },
  "cells": [
    {
      "cell_type": "markdown",
      "metadata": {
        "id": "view-in-github",
        "colab_type": "text"
      },
      "source": [
        "<a href=\"https://colab.research.google.com/github/TORRENTIALBUG/MAT494HW/blob/main/3_4_MAT494.ipynb\" target=\"_parent\"><img src=\"https://colab.research.google.com/assets/colab-badge.svg\" alt=\"Open In Colab\"/></a>"
      ]
    },
    {
      "cell_type": "markdown",
      "source": [
        "3.4 Logistic Regression"
      ],
      "metadata": {
        "id": "sZV0CNNhWWk2"
      }
    },
    {
      "cell_type": "code",
      "source": [
        "import numpy as np\n",
        "from sklearn.linear_model import LogisticRegression\n",
        "X = np.array([1, 2, 3, 4, 5, 6, 7, 8, 9, 10]).reshape(-1,1)\n",
        "y = np.array([1, 1, 1, 1, 1, 0, 0, 0, 0,  0])\n",
        "lr = LogisticRegression(random_state=0)\n",
        "lr.fit(X, y)\n",
        "predict = lambda x: lr.predict(np.array([x]).reshape(-1,1))[0]\n",
        "print(predict(3.5))\n",
        "print(predict(-5))\n",
        "print(predict(7.5))\n",
        "print(predict(25))"
      ],
      "metadata": {
        "colab": {
          "base_uri": "https://localhost:8080/"
        },
        "id": "mx2ngeDPPRWr",
        "outputId": "5009d93b-7251-4155-f9c1-9c720c6ae2ed"
      },
      "execution_count": 1,
      "outputs": [
        {
          "output_type": "stream",
          "name": "stdout",
          "text": [
            "1\n",
            "1\n",
            "0\n",
            "0\n"
          ]
        }
      ]
    }
  ]
}