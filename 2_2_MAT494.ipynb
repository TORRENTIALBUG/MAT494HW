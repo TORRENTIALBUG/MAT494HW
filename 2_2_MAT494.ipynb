{
  "nbformat": 4,
  "nbformat_minor": 0,
  "metadata": {
    "colab": {
      "provenance": [],
      "authorship_tag": "ABX9TyPqu3ji+N9BXgx7dCVtpWkW",
      "include_colab_link": true
    },
    "kernelspec": {
      "name": "python3",
      "display_name": "Python 3"
    },
    "language_info": {
      "name": "python"
    }
  },
  "cells": [
    {
      "cell_type": "markdown",
      "metadata": {
        "id": "view-in-github",
        "colab_type": "text"
      },
      "source": [
        "<a href=\"https://colab.research.google.com/github/TORRENTIALBUG/MAT494HW/blob/main/2_2_MAT494.ipynb\" target=\"_parent\"><img src=\"https://colab.research.google.com/assets/colab-badge.svg\" alt=\"Open In Colab\"/></a>"
      ]
    },
    {
      "cell_type": "markdown",
      "source": [
        "2.2.1 Probability Axioms"
      ],
      "metadata": {
        "id": "fwT4NxqCLP9z"
      }
    },
    {
      "cell_type": "code",
      "source": [
        "import random as r\n",
        "c = 0\n",
        "m = 1000000\n",
        "p = 0.3\n",
        "for _ in range(m):\n",
        "    if(r.random() < p):\n",
        "        c += 1\n",
        "print(c/m, \"~=\", p)"
      ],
      "metadata": {
        "id": "nvj90Hg8pLus",
        "colab": {
          "base_uri": "https://localhost:8080/"
        },
        "outputId": "aac4afc0-567d-4063-dbae-298c7b281f63"
      },
      "execution_count": 1,
      "outputs": [
        {
          "output_type": "stream",
          "name": "stdout",
          "text": [
            "0.30021 ~= 0.3\n"
          ]
        }
      ]
    },
    {
      "cell_type": "markdown",
      "source": [
        "2.2.2 Conditional Probability"
      ],
      "metadata": {
        "id": "mBDS9QIspL8D"
      }
    },
    {
      "cell_type": "code",
      "source": [
        "c = 0\n",
        "m = 1000000\n",
        "p1 = 0.3\n",
        "p2 = 0.6\n",
        "for _ in range(m):\n",
        "    if(r.random() < p1 and r.random() < p2):\n",
        "        c += 1\n",
        "print(\"p2∩p1:\", c/m, \"~=\", p1*p2)\n",
        "print(\"p2|p1=(p2∩p1)/p1=\", p1*p2/p1, \"=p2\") # therefore they are independent"
      ],
      "metadata": {
        "id": "DvRlbyWppPXM",
        "colab": {
          "base_uri": "https://localhost:8080/"
        },
        "outputId": "0203d6e7-2331-46b2-e11d-8a237ba861aa"
      },
      "execution_count": 2,
      "outputs": [
        {
          "output_type": "stream",
          "name": "stdout",
          "text": [
            "p2∩p1: 0.180048 ~= 0.18\n",
            "p2|p1=(p2∩p1)/p1= 0.6 =p2\n"
          ]
        }
      ]
    },
    {
      "cell_type": "markdown",
      "source": [
        "2.2.3 Discrete Random Variables"
      ],
      "metadata": {
        "id": "U_a1P3KSpPw1"
      }
    },
    {
      "cell_type": "code",
      "source": [
        "from scipy.stats import poisson\n",
        "import scipy\n",
        "import numpy as np\n",
        "import matplotlib.pyplot as plt\n",
        "k = np.arange(20)\n",
        "pmf = poisson.pmf(k, mu=5)\n",
        "pmf = np.round(pmf, 4)\n",
        "x = np.arange(0,20,.1)\n",
        "y = (5**x)*np.exp(-5)/scipy.special.factorial(x) # using the formula\n",
        "plt.plot(x, y, color='r')\n",
        "plt.plot(k, pmf, marker='o', color='g') # using the library\n",
        "plt.xlabel('k')\n",
        "plt.ylabel('Probability')\n"
      ],
      "metadata": {
        "id": "LUyBAq_jpTLk",
        "colab": {
          "base_uri": "https://localhost:8080/",
          "height": 296
        },
        "outputId": "d1b1aba5-b24e-423a-8dcb-22c90d526276"
      },
      "execution_count": 3,
      "outputs": [
        {
          "output_type": "execute_result",
          "data": {
            "text/plain": [
              "Text(0, 0.5, 'Probability')"
            ]
          },
          "metadata": {},
          "execution_count": 3
        },
        {
          "output_type": "display_data",
          "data": {
            "text/plain": [
              "<Figure size 432x288 with 1 Axes>"
            ],
            "image/png": "[encoded data removed]"
          },
          "metadata": {
            "needs_background": "light"
          }
        }
      ]
    },
    {
      "cell_type": "markdown",
      "source": [
        "2.2.4 Continues Random Variables"
      ],
      "metadata": {
        "id": "8H5t7c8HpTeF"
      }
    },
    {
      "cell_type": "code",
      "source": [
        "from scipy.stats import norm\n",
        "import matplotlib.pyplot as plt\n",
        "x = np.linspace(norm.ppf(0.01), norm.ppf(0.99), 100)\n",
        "x = np.arange(-4, 4, 0.1)\n",
        "plt.plot(x, norm.pdf(x), color='r') # using library\n",
        "y=np.exp(-.5*(x)**2)/np.math.sqrt(2*np.pi) # using formula\n",
        "plt.plot(x, y, 'g--')"
      ],
      "metadata": {
        "id": "NBbrrRN2pXB9",
        "colab": {
          "base_uri": "https://localhost:8080/",
          "height": 282
        },
        "outputId": "0b1a5c09-e17a-491a-ff12-60206add1457"
      },
      "execution_count": 4,
      "outputs": [
        {
          "output_type": "execute_result",
          "data": {
            "text/plain": [
              "[<matplotlib.lines.Line2D at 0x7f491b08e290>]"
            ]
          },
          "metadata": {},
          "execution_count": 4
        },
        {
          "output_type": "display_data",
          "data": {
            "text/plain": [
              "<Figure size 432x288 with 1 Axes>"
            ],
            "image/png": "[encoded data removed]"
          },
          "metadata": {
            "needs_background": "light"
          }
        }
      ]
    }
  ]
}