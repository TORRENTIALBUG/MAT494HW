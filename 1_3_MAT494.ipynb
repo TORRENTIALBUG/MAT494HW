{
  "nbformat": 4,
  "nbformat_minor": 0,
  "metadata": {
    "colab": {
      "provenance": [],
      "authorship_tag": "ABX9TyPjNzf8SyGabETiFhMpvNgY",
      "include_colab_link": true
    },
    "kernelspec": {
      "name": "python3",
      "display_name": "Python 3"
    },
    "language_info": {
      "name": "python"
    }
  },
  "cells": [
    {
      "cell_type": "markdown",
      "metadata": {
        "id": "view-in-github",
        "colab_type": "text"
      },
      "source": [
        "<a href=\"https://colab.research.google.com/github/TORRENTIALBUG/MAT494HW/blob/main/1_3_MAT494.ipynb\" target=\"_parent\"><img src=\"https://colab.research.google.com/assets/colab-badge.svg\" alt=\"Open In Colab\"/></a>"
      ]
    },
    {
      "cell_type": "markdown",
      "source": [
        "1.3.1 QR Decomposition"
      ],
      "metadata": {
        "id": "fwT4NxqCLP9z"
      }
    },
    {
      "cell_type": "code",
      "source": [
        "import numpy as np\n",
        "np.set_printoptions(precision=4, suppress=True)\n",
        "def gram_schmidt(A):\n",
        "    \"\"\"Gram-schmidt Orthogonalization\"\"\"\n",
        "    Q=np.zeros_like(A)\n",
        "    cnt = 0\n",
        "    for a in A.T:\n",
        "        u = np.copy(a)\n",
        "        for i in range(0, cnt):\n",
        "            u -= np.dot(np.dot(Q[:, i].T, a), Q[:, i]) \n",
        "        e = u / np.linalg.norm(u)  # normalization \n",
        "        Q[:, cnt] = e\n",
        "        cnt += 1\n",
        "    R = np.dot(Q.T, A)\n",
        "    return (Q, R)\n",
        "\n",
        "np.set_printoptions(precision=4, suppress=True)\n",
        "m = np.around(np.random.rand(5, 5)*100)  # random matrix m\n",
        "print(\"m =\", m, \"\\n\")\n",
        "(Q, R) = gram_schmidt(m) # QR decomposition by Gram-schmidt Orthogonalization\n",
        "print(\"Q =\", Q, \"\\nR =\", R)\n",
        "print(\"Q.R==m ?\", (m-np.dot(Q, R)<0.0001).all())\n",
        "print(\"R'.Q'==m' ?\", (m.T-np.dot(R.T, Q.T)<0.0001).all())\n",
        "\n",
        "import scipy.linalg\n",
        "(Q2, R2) = scipy.linalg.qr(m)  # QR decomposition by scipy\n",
        "print(\"Q2 =\", Q, \"\\nR2 =\", R)\n",
        "print(\"Q.R==m ?\", (m-np.dot(Q, R)<0.0001).all())\n",
        "print(\"R'.Q'==m' ?\", (m.T-np.dot(R.T, Q.T)<0.0001).all())"
      ],
      "metadata": {
        "id": "nSYN7w11MQhE",
        "colab": {
          "base_uri": "https://localhost:8080/"
        },
        "outputId": "7dde743e-3441-47ff-d251-277388f78ca5"
      },
      "execution_count": 10,
      "outputs": [
        {
          "output_type": "stream",
          "name": "stdout",
          "text": [
            "m = [[ 39.  97.  16.  78.  21.]\n",
            " [ 67.  63.  19.  88. 100.]\n",
            " [ 66.  91.  43.  86.  25.]\n",
            " [ 80.  94.  11.  39.  19.]\n",
            " [ 43.  68.  42.  18.  69.]] \n",
            "\n",
            "Q = [[ 0.2858  0.8364 -0.3446  0.2609  0.1788]\n",
            " [ 0.4911 -0.4571 -0.0291  0.5448  0.5022]\n",
            " [ 0.4837  0.0785  0.4528  0.2875 -0.6871]\n",
            " [ 0.5864 -0.2027 -0.5222 -0.5546 -0.1865]\n",
            " [ 0.3152  0.2104  0.6345 -0.4949  0.457 ]] \n",
            "R = [[136.4368 179.2332  54.3915 135.6526 100.0903]\n",
            " [  0.      54.7218  14.6787  27.641  -15.524 ]\n",
            " [  0.       0.      34.3089   0.5516  35.0291]\n",
            " [ -0.      -0.      -0.      62.4745  22.4616]\n",
            " [  0.       0.      -0.       0.      64.7872]]\n",
            "Q.R==m ? True\n",
            "R'.Q'==m' ? True\n",
            "Q2 = [[ 0.2858  0.8364 -0.3446  0.2609  0.1788]\n",
            " [ 0.4911 -0.4571 -0.0291  0.5448  0.5022]\n",
            " [ 0.4837  0.0785  0.4528  0.2875 -0.6871]\n",
            " [ 0.5864 -0.2027 -0.5222 -0.5546 -0.1865]\n",
            " [ 0.3152  0.2104  0.6345 -0.4949  0.457 ]] \n",
            "R2 = [[136.4368 179.2332  54.3915 135.6526 100.0903]\n",
            " [  0.      54.7218  14.6787  27.641  -15.524 ]\n",
            " [  0.       0.      34.3089   0.5516  35.0291]\n",
            " [ -0.      -0.      -0.      62.4745  22.4616]\n",
            " [  0.       0.      -0.       0.      64.7872]]\n",
            "Q.R==m ? True\n",
            "R'.Q'==m' ? True\n"
          ]
        }
      ]
    },
    {
      "cell_type": "markdown",
      "source": [
        "1.3.2 Least-squares Problems  \n",
        "1.3.3 Linear Regression"
      ],
      "metadata": {
        "id": "_5QovwBVMUqD"
      }
    },
    {
      "cell_type": "code",
      "source": [
        "import numpy as np\n",
        "import matplotlib.pyplot as plt\n",
        "from sklearn import linear_model\n",
        "# X is 1-15; Y is X+5*(a random number)\n",
        "X = np.arange(1, 16).reshape((15, 1))\n",
        "Y = X + 5 * np.random.random((15, 1))\n",
        "\n",
        "# linear regression using numpy\n",
        "A = np.hstack([X, np.ones((15, 1))])\n",
        "print(\"X.shape:\", X.shape)\n",
        "print(\"Y.shape:\", Y.shape)\n",
        "print(\"A.shape:\", A.shape)\n",
        "c, i = np.linalg.lstsq(A, Y, rcond=None)[0]\n",
        "plt.scatter(X, Y,  color='black')\n",
        "plt.plot(X, X*c+i, color='blue', linewidth=4)\n",
        "print(\"Coef: %.2f; Intercept: %.2f\" % (c, i))\n",
        "plt.show()"
      ],
      "metadata": {
        "id": "RFviV-n2MenL",
        "colab": {
          "base_uri": "https://localhost:8080/",
          "height": 334
        },
        "outputId": "1a1f718c-db92-4a15-baf6-2dca17a1cb4d"
      },
      "execution_count": 11,
      "outputs": [
        {
          "output_type": "stream",
          "name": "stdout",
          "text": [
            "X.shape: (15, 1)\n",
            "Y.shape: (15, 1)\n",
            "A.shape: (15, 2)\n",
            "Coef: 0.99; Intercept: 2.82\n"
          ]
        },
        {
          "output_type": "display_data",
          "data": {
            "text/plain": [
              "<Figure size 432x288 with 1 Axes>"
            ],
            "image/png": "[encoded data removed]"
          },
          "metadata": {
            "needs_background": "light"
          }
        }
      ]
    },
    {
      "cell_type": "code",
      "source": [
        "import matplotlib.pyplot as plt\n",
        "from sklearn import linear_model\n",
        "from sklearn.metrics import mean_squared_error, r2_score\n",
        "# same data set\n",
        "# linear regression using sklearn\n",
        "reg = linear_model.LinearRegression().fit(X, Y)\n",
        "pred_Y = reg.predict(X)\n",
        "print(\"Score:\", reg.score(X, Y))\n",
        "print(\"Predict f(16) =\", reg.predict(np.array([[16]]))[0][0])\n",
        "print(\"Mean squared error: %.2f\" % mean_squared_error(Y, pred_Y))\n",
        "print(\"Coefficient of determination: %.2f\" % r2_score(Y, pred_Y))\n",
        "plt.scatter(X, Y,  color='black')\n",
        "plt.plot(X, pred_Y, color='green', linewidth=4) # using predict function\n",
        "pred_Y = X * reg.coef_[0][0] + reg.intercept_[0]\n",
        "print(\"Coef: %.2f; Intercept: %.2f\" % (reg.coef_[0][0], reg.intercept_[0]))\n",
        "plt.plot(X, pred_Y, color='white', linewidth=1) # using expression\n",
        "plt.show()"
      ],
      "metadata": {
        "id": "eEkwsF1BMfAT",
        "colab": {
          "base_uri": "https://localhost:8080/",
          "height": 352
        },
        "outputId": "16b28ff3-3984-454e-f46d-b026a1265214"
      },
      "execution_count": 12,
      "outputs": [
        {
          "output_type": "stream",
          "name": "stdout",
          "text": [
            "Score: 0.9337440906898614\n",
            "Predict f(16) = 18.650201694512447\n",
            "Mean squared error: 1.30\n",
            "Coefficient of determination: 0.93\n",
            "Coef: 0.99; Intercept: 2.82\n"
          ]
        },
        {
          "output_type": "display_data",
          "data": {
            "text/plain": [
              "<Figure size 432x288 with 1 Axes>"
            ],
            "image/png": "[encoded data removed]"
          },
          "metadata": {
            "needs_background": "light"
          }
        }
      ]
    }
  ]
}