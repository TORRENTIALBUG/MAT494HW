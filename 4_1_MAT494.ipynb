{
  "nbformat": 4,
  "nbformat_minor": 0,
  "metadata": {
    "colab": {
      "provenance": [],
      "authorship_tag": "ABX9TyNPEhmEloC18Ldc5eevU/Iw",
      "include_colab_link": true
    },
    "kernelspec": {
      "name": "python3",
      "display_name": "Python 3"
    },
    "language_info": {
      "name": "python"
    }
  },
  "cells": [
    {
      "cell_type": "markdown",
      "metadata": {
        "id": "view-in-github",
        "colab_type": "text"
      },
      "source": [
        "<a href=\"https://colab.research.google.com/github/TORRENTIALBUG/MAT494HW/blob/main/4_1_MAT494.ipynb\" target=\"_parent\"><img src=\"https://colab.research.google.com/assets/colab-badge.svg\" alt=\"Open In Colab\"/></a>"
      ]
    },
    {
      "cell_type": "markdown",
      "source": [
        "4.1.1 Graph Models"
      ],
      "metadata": {
        "id": "sZV0CNNhWWk2"
      }
    },
    {
      "cell_type": "code",
      "source": [
        "import networkx as nx\n",
        "import matplotlib.pyplot as plt\n",
        "\n",
        "M = [[0, 1], [0, 6], [1, 2], [1, 4], [1, 5], [2, 3], [2, 6], [2, 5], [3, 5], [4, 5], [5, 7], [6, 7]]\n",
        "# Edges of a random graph\n",
        "\n",
        "G = nx.Graph()\n",
        "G.add_edges_from(M)\n",
        "nx.draw_networkx(G)\n",
        "plt.show()"
      ],
      "metadata": {
        "colab": {
          "base_uri": "https://localhost:8080/",
          "height": 248
        },
        "id": "rqVUV6EalDNF",
        "outputId": "44c85214-f023-4121-df95-5981f37fbb3c"
      },
      "execution_count": 1,
      "outputs": [
        {
          "output_type": "display_data",
          "data": {
            "text/plain": [
              "<Figure size 432x288 with 1 Axes>"
            ],
            "image/png": "[encoded data removed]"
          },
          "metadata": {}
        }
      ]
    },
    {
      "cell_type": "markdown",
      "source": [
        "4.1.2 Laplacian Matrix"
      ],
      "metadata": {
        "id": "31VB0urLj_Hy"
      }
    },
    {
      "cell_type": "code",
      "source": [
        "from sympy.interactive.session import init_printing\n",
        "from sympy import Matrix\n",
        "init_printing(use_latex=True)\n",
        "\n",
        "dim = max(max(*v) for v in M)\n",
        "LM = [[0]*dim for _ in range(dim)]\n",
        "\n",
        "for x in range(dim):\n",
        "    for y in range(dim):\n",
        "        if(x == y):\n",
        "            LM[y][x] = sum(1 if x in v else 0 for v in M)\n",
        "        else:\n",
        "            LM[y][x] = -sum(1 if v==[x, y] or v==[y, x] else 0 for v in M)\n",
        "\n",
        "Matrix(LM) # Laplacian Matrix of the graph above"
      ],
      "metadata": {
        "colab": {
          "base_uri": "https://localhost:8080/",
          "height": 159
        },
        "id": "sIx5uApmkDmI",
        "outputId": "f1684b26-989f-4d44-f365-61cb369a0695"
      },
      "execution_count": 2,
      "outputs": [
        {
          "output_type": "execute_result",
          "data": {
            "text/plain": [
              "⎡2   -1  0   0   0   0   -1⎤\n",
              "⎢                          ⎥\n",
              "⎢-1  4   -1  0   -1  -1  0 ⎥\n",
              "⎢                          ⎥\n",
              "⎢0   -1  4   -1  0   -1  -1⎥\n",
              "⎢                          ⎥\n",
              "⎢0   0   -1  2   0   -1  0 ⎥\n",
              "⎢                          ⎥\n",
              "⎢0   -1  0   0   2   -1  0 ⎥\n",
              "⎢                          ⎥\n",
              "⎢0   -1  -1  -1  -1  5   0 ⎥\n",
              "⎢                          ⎥\n",
              "⎣-1  0   -1  0   0   0   3 ⎦"
            ],
            "text/latex": "$\\displaystyle \\left[\\begin{matrix}2 & -1 & 0 & 0 & 0 & 0 & -1\\\\-1 & 4 & -1 & 0 & -1 & -1 & 0\\\\0 & -1 & 4 & -1 & 0 & -1 & -1\\\\0 & 0 & -1 & 2 & 0 & -1 & 0\\\\0 & -1 & 0 & 0 & 2 & -1 & 0\\\\0 & -1 & -1 & -1 & -1 & 5 & 0\\\\-1 & 0 & -1 & 0 & 0 & 0 & 3\\end{matrix}\\right]$"
          },
          "metadata": {},
          "execution_count": 2
        }
      ]
    }
  ]
}