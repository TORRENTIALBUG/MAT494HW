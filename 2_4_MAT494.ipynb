{
  "nbformat": 4,
  "nbformat_minor": 0,
  "metadata": {
    "colab": {
      "provenance": [],
      "authorship_tag": "ABX9TyNpG4Odw446URhM5ZboCnCE",
      "include_colab_link": true
    },
    "kernelspec": {
      "name": "python3",
      "display_name": "Python 3"
    },
    "language_info": {
      "name": "python"
    }
  },
  "cells": [
    {
      "cell_type": "markdown",
      "metadata": {
        "id": "view-in-github",
        "colab_type": "text"
      },
      "source": [
        "<a href=\"https://colab.research.google.com/github/TORRENTIALBUG/MAT494HW/blob/main/2_4_MAT494.ipynb\" target=\"_parent\"><img src=\"https://colab.research.google.com/assets/colab-badge.svg\" alt=\"Open In Colab\"/></a>"
      ]
    },
    {
      "cell_type": "markdown",
      "source": [
        "2.4.1 MLE for Random Samples"
      ],
      "metadata": {
        "id": "fwT4NxqCLP9z"
      }
    },
    {
      "cell_type": "code",
      "source": [
        "import numpy as np\n",
        "from scipy.stats import norm\n",
        "import matplotlib.pyplot as plt\n",
        "\n",
        "def mle(x):\n",
        "    u = np.mean(x)\n",
        "    return u, np.sqrt(np.dot(x-u, (x-u).T)/x.shape[0])\n",
        "    \n",
        "u = 100\n",
        "s = 50\n",
        "x = u+s*np.random.randn(100000)\n",
        "plt.hist(x, bins=100)\n",
        "plt.show()\n",
        "print(\"actual:      (%6.2f, %6.2f)\" % (u, s))\n",
        "print(\"norm.fit(x): (%6.2f, %6.2f)\" % norm.fit(x))\n",
        "print(\"mle(x):      (%6.2f, %6.2f)\" % mle(x))"
      ],
      "metadata": {
        "id": "nvj90Hg8pLus",
        "colab": {
          "base_uri": "https://localhost:8080/",
          "height": 317
        },
        "outputId": "5f3cbb31-66b1-481f-d157-927f7d71237c"
      },
      "execution_count": 1,
      "outputs": [
        {
          "output_type": "display_data",
          "data": {
            "text/plain": [
              "<Figure size 432x288 with 1 Axes>"
            ],
            "image/png": "[encoded data removed]"
          },
          "metadata": {
            "needs_background": "light"
          }
        },
        {
          "output_type": "stream",
          "name": "stdout",
          "text": [
            "actual:      (100.00,  50.00)\n",
            "norm.fit(x): ( 99.77,  49.96)\n",
            "mle(x):      ( 99.77,  49.96)\n"
          ]
        }
      ]
    },
    {
      "cell_type": "markdown",
      "source": [
        "2.4.2 Linear Regression"
      ],
      "metadata": {
        "id": "mBDS9QIspL8D"
      }
    },
    {
      "cell_type": "code",
      "source": [
        "import matplotlib.pyplot as plt\n",
        "\n",
        "xp = np.arange(10, 201)\n",
        "yp = 50 - 2 * xp + 100 * (np.random.random(xp.size)-.5)\n",
        "\n",
        "xm  = np.mat([[1, a] for a in xp])\n",
        "ym  = np.mat(yp).T\n",
        "xTx = xm.T * xm\n",
        "w   = xTx.I * xm.T * ym\n",
        "y   = xm * w\n",
        "\n",
        "print(w) # we see the predict values are close to actual value\n",
        "\n",
        "plt.plot(xp, yp, '.', color='g')\n",
        "plt.plot(xp, y, color='b')\n",
        "plt.show()"
      ],
      "metadata": {
        "id": "DvRlbyWppPXM",
        "colab": {
          "base_uri": "https://localhost:8080/",
          "height": 300
        },
        "outputId": "9ddbc7f6-afe6-42f3-ca8f-8236484e6d4a"
      },
      "execution_count": 2,
      "outputs": [
        {
          "output_type": "stream",
          "name": "stdout",
          "text": [
            "[[48.26308598]\n",
            " [-1.99098176]]\n"
          ]
        },
        {
          "output_type": "display_data",
          "data": {
            "text/plain": [
              "<Figure size 432x288 with 1 Axes>"
            ],
            "image/png": "[encoded data removed]"
          },
          "metadata": {
            "needs_background": "light"
          }
        }
      ]
    }
  ]
}