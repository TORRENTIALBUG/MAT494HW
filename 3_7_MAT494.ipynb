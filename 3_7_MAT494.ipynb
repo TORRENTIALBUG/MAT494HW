{
  "nbformat": 4,
  "nbformat_minor": 0,
  "metadata": {
    "colab": {
      "provenance": [],
      "authorship_tag": "ABX9TyNjWMw0DbZB6X4RnQpLEdAU",
      "include_colab_link": true
    },
    "kernelspec": {
      "name": "python3",
      "display_name": "Python 3"
    },
    "language_info": {
      "name": "python"
    }
  },
  "cells": [
    {
      "cell_type": "markdown",
      "metadata": {
        "id": "view-in-github",
        "colab_type": "text"
      },
      "source": [
        "<a href=\"https://colab.research.google.com/github/TORRENTIALBUG/MAT494HW/blob/main/3_7_MAT494.ipynb\" target=\"_parent\"><img src=\"https://colab.research.google.com/assets/colab-badge.svg\" alt=\"Open In Colab\"/></a>"
      ]
    },
    {
      "cell_type": "markdown",
      "source": [
        "3.7 Neural Networks"
      ],
      "metadata": {
        "id": "sZV0CNNhWWk2"
      }
    },
    {
      "cell_type": "code",
      "source": [
        "from sklearn.neural_network import MLPClassifier\n",
        "X = [[0, 0], [10, 10], [-20, -20]]\n",
        "y = [0, 1, 2]\n",
        "clf = MLPClassifier(solver='lbfgs', hidden_layer_sizes=(20, 5), random_state=1)\n",
        "clf.fit(X, y)\n",
        "clf.predict([[-5, 5], [1, -1], [2, 2], \n",
        "             [11, 9], [11, 13], [12, 9],\n",
        "             [-19, -19], [-21, -22], [-18, -15]])"
      ],
      "metadata": {
        "colab": {
          "base_uri": "https://localhost:8080/"
        },
        "id": "mx2ngeDPPRWr",
        "outputId": "4d02a6be-740c-4c68-ca10-41afb11d9860"
      },
      "execution_count": 1,
      "outputs": [
        {
          "output_type": "execute_result",
          "data": {
            "text/plain": [
              "array([0, 0, 0, 1, 1, 1, 2, 2, 2])"
            ]
          },
          "metadata": {},
          "execution_count": 1
        }
      ]
    }
  ]
}